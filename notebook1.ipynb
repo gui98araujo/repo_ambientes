{
 "cells": [
  {
   "cell_type": "code",
   "execution_count": 2,
   "id": "a1d7583a-8828-4ca2-a441-cac3de134522",
   "metadata": {},
   "outputs": [
    {
     "name": "stdout",
     "output_type": "stream",
     "text": [
      "Hello World\n"
     ]
    }
   ],
   "source": [
    "print(\"Hello World\")"
   ]
  },
  {
   "cell_type": "markdown",
   "id": "41783d17-9721-41fc-ad8e-70b84ab9c30b",
   "metadata": {},
   "source": [
    "# primeiro notebook"
   ]
  },
  {
   "cell_type": "markdown",
   "id": "98b6815f-bdda-4f1f-bba4-34198762653d",
   "metadata": {},
   "source": [
    "vamos lá\n"
   ]
  },
  {
   "cell_type": "code",
   "execution_count": 3,
   "id": "16377813-7d76-4e96-821d-6a1d010f236e",
   "metadata": {},
   "outputs": [
    {
     "name": "stdout",
     "output_type": "stream",
     "text": [
      "0\n",
      "1\n",
      "2\n",
      "3\n",
      "4\n",
      "5\n",
      "6\n",
      "7\n",
      "8\n",
      "9\n"
     ]
    }
   ],
   "source": [
    "for j in range(0,10):\n",
    "    print(j)"
   ]
  },
  {
   "cell_type": "code",
   "execution_count": 4,
   "id": "008d13e5-c274-4daf-8b3e-808be6a27d9e",
   "metadata": {},
   "outputs": [
    {
     "name": "stdout",
     "output_type": "stream",
     "text": [
      "0\n",
      "1\n",
      "2\n",
      "3\n",
      "4\n",
      "5\n",
      "6\n",
      "7\n",
      "8\n",
      "9\n"
     ]
    }
   ],
   "source": [
    "k=0\n",
    "while k<10:\n",
    "    print(k)\n",
    "    k+=1"
   ]
  },
  {
   "cell_type": "code",
   "execution_count": null,
   "id": "ce55f033-164a-4854-986a-46cc99dd5b73",
   "metadata": {},
   "outputs": [],
   "source": []
  }
 ],
 "metadata": {
  "kernelspec": {
   "display_name": "Python 3 (ipykernel)",
   "language": "python",
   "name": "python3"
  },
  "language_info": {
   "codemirror_mode": {
    "name": "ipython",
    "version": 3
   },
   "file_extension": ".py",
   "mimetype": "text/x-python",
   "name": "python",
   "nbconvert_exporter": "python",
   "pygments_lexer": "ipython3",
   "version": "3.10.6"
  }
 },
 "nbformat": 4,
 "nbformat_minor": 5
}
